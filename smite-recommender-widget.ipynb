{
 "cells": [
  {
   "cell_type": "markdown",
   "metadata": {},
   "source": [
    "# Interactive Smite-Recommender Widget\n",
    "\n",
    "NOTE: Unfortunately, the widget below will not function on a static HTML page. If you are viewing this in GitHub or nbviewer, the **only** way to interact with it is to have Jupyter installed on your computer, download the file containing this notebook, and view it through Jupyter on your own computer."
   ]
  },
  {
   "cell_type": "markdown",
   "metadata": {},
   "source": [
    "\n",
    "   ### What items go well with/against certain gods? Let's find out!\n",
    "   \n",
    "A regularized logistic regression supplies a rating for each item as it tries to predict which items lead to a win. Using this information, we suggest useful alternatives to the most popular items used.\n",
    " \n",
    " Try pairing up a guardian and a hunter in ranked, or compare recommendations between enemies in duel vs ranked mode.\n",
    "\n",
    "    Just remember, item use *correlating* with a win does not necessarily mean that the item helped *cause* the win!\n"
   ]
  },
  {
   "cell_type": "code",
   "execution_count": 1,
   "metadata": {
    "collapsed": false
   },
   "outputs": [],
   "source": [
    "import pandas as pd\n",
    "from IPython.display import display, HTML, clear_output\n",
    "from seaborn import light_palette\n",
    "from ipywidgets import interact\n",
    "import ipywidgets as widgets\n",
    "import numpy as np\n",
    "import os.path\n",
    "\n",
    "def centered(html_string):\n",
    "    return(HTML('<center>{}</center>'.format(html_string)))\n",
    "\n",
    "def color_it(s, color = \"#bbdcdc\"):\n",
    "    return('background-color: {}'.format(color))\n",
    "\n",
    "def color_negative_red(val):\n",
    "    if isinstance(val, float):\n",
    "        color = '#d25349' if val < 0 else 'black'\n",
    "    else: color= 'black'\n",
    "    return('color: {}'.format(color))\n",
    "\n",
    "def highlight_popular(val, popular_items):\n",
    "    if val not in popular_items:\n",
    "        weight = 'bold'\n",
    "    else: weight = 'normal'\n",
    "    return('font-weight: {}'.format(weight))\n",
    "\n",
    "def itemstyle(df, pop_items, relic=False):\n",
    "    cm = light_palette(\"#7cbbbb\", as_cmap=True)\n",
    "    output = df.style.background_gradient(cmap=cm)\\\n",
    "    .applymap(highlight_popular, popular_items=pop_items)\\\n",
    "    .applymap(color_negative_red)\\\n",
    "    .format({'-Rating-': \"{:.2f}\",'Rating': \"{:.2f}\",'-Win Rate-': '{:.1%}', 'Win Rate': '{:.1%}'})\n",
    "    if relic == False:\n",
    "        output.format({'Rating/Cost': \"{:.2f}\",'Win Rate/Cost': '{:.3}'})\n",
    "    else: \n",
    "        output.format({\"Paired\": \"{:.1%}\",'-Paired-': '{:.1%}'})\n",
    "    return(centered(output.render()))\n",
    "\n",
    "def recommendationstyle(df, pop_items):\n",
    "    cm = light_palette(\"#7cbbbb\", as_cmap=True)\n",
    "    output = df.style.background_gradient(cmap=cm).applymap(color_negative_red)\\\n",
    "    .applymap(highlight_popular, popular_items=pop_items)\\\n",
    "    .format({'Win Rate': '{:.1%}', 'Win Rate/Cost': '{:.3}'})\n",
    "    return(centered(output.render()))"
   ]
  },
  {
   "cell_type": "code",
   "execution_count": 2,
   "metadata": {
    "collapsed": false
   },
   "outputs": [],
   "source": [
    "gods_lookup = pd.DataFrame.from_csv(\"SMITE_data/SMITE_Gods_All_Lookup.csv\", index_col=\"Name\")\n",
    "god_names = list(gods_lookup.index)\n",
    "\n",
    "def self_align(s):\n",
    "    \"\"\" Allows for text input to update dropdown widget\"\"\"\n",
    "    if self_text.value.title() in god_names:\n",
    "        self.value = self_text.value.title()\n",
    "self_text = widgets.Text(placeholder=\"Enter a god and hit 'Enter'\")\n",
    "self = widgets.Dropdown(options=god_names, value='Agni', button_style='success')\n",
    "self_text.on_submit(self_align)\n",
    "               \n",
    "def partner_align(s):\n",
    "    \"\"\" Allows for text input to update dropdown widget\"\"\"\n",
    "    if partner_text.value.title() in god_names:\n",
    "        partner.value = partner_text.value.title()\n",
    "partner_text = widgets.Text(placeholder=\"Enter a god and hit 'Enter'\")\n",
    "partner = widgets.Dropdown(options=god_names, value='Agni', button_style='info')\n",
    "partner_text.on_submit(partner_align)\n",
    "\n",
    "godcardsHTML='<img src={} style=\"float:left; border-radius: 40px; border: 8px solid green;\" width=\"380px\" height=\"512px\"/>'\\\n",
    "    '<img src={} style=\"float:right; border-radius: 40px; border: 8px solid {};\" width=\"380px\" height=\"512px\"/>'\n",
    "\n",
    "def update(button):\n",
    "    \"\"\" pulls SmiteRecommender dfs based on widget input, and returns styled pandas dfs of results\n",
    "        needs SMITE_recommendations folder in the same directory to work.\n",
    "    \"\"\"\n",
    "    clear_output()\n",
    "    if toggle_gamemode.value == \"casual\":\n",
    "        print(\"No data for casual mode. Please try a different mode\")\n",
    "        return\n",
    "    selfcard = gods_lookup.loc[self.value, \"godCard_URL\"]\n",
    "    partnercard = gods_lookup.loc[partner.value, \"godCard_URL\"]\n",
    "    partnercolor = \"green\" if toggle_friend.value == True else \"darkred\"\n",
    "    godcards.value = godcardsHTML.format(selfcard, partnercard, partnercolor)\n",
    "    \n",
    "    god_id = gods_lookup.loc[self.value, \"id\"]\n",
    "    partner_id = gods_lookup.loc[partner.value, \"id\"]\n",
    "    friend = \"_friend/\" if toggle_friend.value == True else \"_foe/\"\n",
    "    path = \"SMITE_recommendations/\" + toggle_gamemode.value + friend\n",
    "    try:\n",
    "        fullpath = path + \"{}-{}_info.txt\".format(god_id, partner_id)\n",
    "        if os.path.getsize(fullpath) == 0:\n",
    "            print(\"Empty file found. Please try a different pairing.\")\n",
    "            return\n",
    "        with open(fullpath, \"rb\") as f:\n",
    "            info_table = f.read().decode(\"utf-8\")\n",
    "        print(info_table)\n",
    "        \n",
    "    except OSError:\n",
    "        print(\"Pairing not allowed, or less than 100 matches.\")\n",
    "    try:\n",
    "        recommendation = pd.DataFrame.from_csv(path + \"{}-{}_recommendation.csv\".format(god_id, partner_id), parse_dates=False).fillna(0)\n",
    "        recommendation.index.name = ''\n",
    "        recommendation.columns = [\"Recommendation\", \"Win Rate\", \"Win Rate/Cost\"]\n",
    "        items = pd.DataFrame.from_csv(path + \"{}-{}_items.csv\".format(god_id, partner_id), index_col= None, parse_dates=False).fillna(0)\n",
    "        items.columns = [\"Most Popular\", \"-Rating-\", \"-Win Rate-\", \"Most Recommended\", \"Rating\", \"Win Rate\", \"Cost Adjusted\", \"Rating/Cost\", \"Win Rate/Cost\"]\n",
    "        relics = pd.DataFrame.from_csv(path + \"{}-{}_relics.csv\".format(god_id, partner_id), index_col= None, parse_dates=False).fillna(0)\n",
    "        relics.columns = [\"Most Popular\", \"-Rating-\", \"-Win Rate-\", \"-Paired-\", \"Most Recommended\", \"Rating\", \"Win Rate\", \"Paired\"]\n",
    "        relics.loc[1,\"-Paired-\"]=relics.loc[0,\"-Paired-\"]\n",
    "        relics.loc[1,\"Paired\"]=relics.loc[0,\"Paired\"]\n",
    "        pop_items = list(items[\"Most Popular\"].values) + list(relics[\"Most Popular\"].values)\n",
    "        display(recommendationstyle(recommendation, pop_items))\n",
    "        display(itemstyle(items, pop_items))\n",
    "        display(itemstyle(relics, pop_items, relic=True))\n",
    "    except OSError:\n",
    "        print(\"Unable to get recommendation. Please try a different pairing.\")\n",
    "    \n",
    "    "
   ]
  },
  {
   "cell_type": "code",
   "execution_count": 3,
   "metadata": {
    "collapsed": false,
    "scrolled": true
   },
   "outputs": [],
   "source": [
    "toggle_friend = widgets.ToggleButtons(options={'Friend': True, 'Foe': False},margin = '10px')\n",
    "toggle_gamemode = widgets.ToggleButtons(options={'Ranked' : \"ranked\", 'Casual' : \"casual\", 'Joust' : \"joust\", \"Duel\": \"duel\"}, margin = '10px')\n",
    "button = widgets.Button(description='Get Recommendation', button_style='warning', pack= 'center', margin= '0 243px 30px 243px')\n",
    "\n",
    "center  = widgets.Layout(align_self=\"center\",justify_content= 'center', width= \"50%\")\n",
    "firstrow = widgets.HBox(children=[toggle_friend, toggle_gamemode], layout=center)\n",
    "secondrow = widgets.HBox(children=[self, self_text], layout=center)\n",
    "thirdrow = widgets.HBox(children=[partner, partner_text], layout=center)\n",
    "button = widgets.Button(description='Get Recommendation', button_style='warning',layout=center)\n",
    "\n",
    "godcards = widgets.HTML(value=None)"
   ]
  },
  {
   "cell_type": "code",
   "execution_count": 4,
   "metadata": {
    "collapsed": false
   },
   "outputs": [],
   "source": [
    "button.on_click(update)\n",
    "recommender_widget = widgets.VBox(children=[firstrow, secondrow, thirdrow, button], layout=widgets.Layout(margin = \"25px\"))\n",
    "display(recommender_widget)\n",
    "display(godcards)"
   ]
  },
  {
   "cell_type": "code",
   "execution_count": 5,
   "metadata": {
    "collapsed": false
   },
   "outputs": [
    {
     "data": {
      "text/html": [
       "<script>\n",
       "code_show=true; \n",
       "function code_toggle() {\n",
       " if (code_show){\n",
       " $('div.input').hide();\n",
       " } else {\n",
       " $('div.input').show();\n",
       " }\n",
       " code_show = !code_show\n",
       "} \n",
       "$( document ).ready(code_toggle);\n",
       "</script>\n",
       "<center><form action=\"javascript:code_toggle()\"><input type=\"submit\" value=\"View/Hide code cells.\"></form><center>"
      ],
      "text/plain": [
       "<IPython.core.display.HTML object>"
      ]
     },
     "execution_count": 5,
     "metadata": {},
     "output_type": "execute_result"
    }
   ],
   "source": [
    "# found from a stackoverflow answer: http://tinyurl.com/zwl2wtl\n",
    "HTML('''<script>\n",
    "code_show=true; \n",
    "function code_toggle() {\n",
    " if (code_show){\n",
    " $('div.input').hide();\n",
    " } else {\n",
    " $('div.input').show();\n",
    " }\n",
    " code_show = !code_show\n",
    "} \n",
    "$( document ).ready(code_toggle);\n",
    "</script>\n",
    "<center><form action=\"javascript:code_toggle()\"><input type=\"submit\" value=\"View/Hide code cells.\"></form><center>''')"
   ]
  },
  {
   "cell_type": "markdown",
   "metadata": {},
   "source": [
    "## Recommendation Info:\n",
    "Recommendations are made by replacing the two popular items with the worst rating with the best two new items from the cost adjusted rating. This is an imperfect approach, but does a decent job most of the time.\n",
    "\n",
    "* Items are NOT ordered (except boots). Our algorithm doesn't have a way to intelligently tell us when to buy each item. \n",
    "* Starter Items are chosen based on popularity.\n",
    "* Items are bolded to show that they were not in the original six most popular items. \n",
    "* Recommended items were used in at least 5% of matches, Recommended relics in at least 3%.\n",
    "* Only paired recommendations with at least 100 matches will be shown.\n",
    "* Currently, there is no data for  **casual** mode.\n",
    "* The data is more trustworthy for god pairings that are popular (or high tier) in the given game mode. Unpopular gods, in **Duel** especially, have few pairings with over 100 matches. \n",
    "* The more in-game interaction a given pair of gods have (Guardian-Hunter friends, duel mode, etc), the more the results will show deviations from a standard build.\n",
    "* Due to a (now fixed) code bug, the paired relic winrate columns are duplicating the data for the most recommended relics, and starter items sometimes show up twice in a recommendation.\n",
    "* This data is for Smite games from October and November, 2016, and there doesn't seem to be any data for Camazotz.\n",
    "\n",
    "#### Gamemodes:\n",
    "- Ranked Conquest (5v5)\n",
    "- Casual Conquest (5v5)\n",
    "- Ranked Joust    (3v3)\n",
    "- Ranked Duel     (1v1)\n",
    "\n",
    "###  Recommendation Details:\n",
    "* Cost adjusted rating (rating/cost) is used to help reduce the possibility of luxury items (like Spear of Desolation or Mantle of Discord) being recommended. We don't want to recommend 'win-more' items: items that help an already winning team continue to win, but are not helpful if you are losing. The cost adjusted rating presents the best value per gold spent, as opposed to pure value.\n",
    "\n",
    "\n",
    "* We do not simply suggest the 6 items with the highest rating because some items are so ubiquitious (everyone buys them) that they are actually terrible at predicting a winning outcome (which is where our recommendations come from). Many items that do not predict a winning outcome are still fundamentally necessary (like boots!).\n",
    "    + There is also still the problem of \"win-more\" items. An item might predict winning quite well simply because a team would only pick that item up if it is likely to win. Item use *correlating* with a win does not necessarily mean that the item helped *cause* the win!\n",
    "    \n",
    "    \n",
    "* If a recommendation seems off, often the ratings will tell you the full story. Relic recommendations should be taken with a grain of salt, and are usually quit situational. Sometimes relics have a winrate of 100%, meaning they were used very few times, which could skew their rating.\n",
    "\n",
    "\n",
    "* Note that item use **_correlating_** with a win/loss does not necessarily mean that the item helped **_cause_** the win/loss, and that these recommendations are based only off of end game data.\n",
    "\n",
    "    * Win-more items have a high rating and win rate, because having them is a good predictor that you won the game. However, being ahead is probably what causes you to buy expensive items; buying expensive items is not in and of itself going to *cause* you to win (quite the opposite).\n",
    "\n",
    "    * Starter items are meant to be replaced by more powerful items later in the game. Having a starter item at the end of the game is a good predictor that you lost (meaning it has a negative rating). It likely didn't *cause* the loss, it's simply a good indicator that you were behind in gold and experience relative to your opponents.\n",
    "\n",
    "    * As a final example, a relic like **Sanctuary** or **Purification** can have a negative rating but high popularity. This could be because getting the relic is necessary in certain matchups (like against hard CC), but you are still likely to lose. In this case, getting the relic correlates with the specific pairing, and the specific pairing correlates with a poor win rate, so the relic correlates with, but is not responsible for, a poor win rate.\n",
    "\n",
    "\n"
   ]
  }
 ],
 "metadata": {
  "anaconda-cloud": {},
  "kernelspec": {
   "display_name": "Python [Root]",
   "language": "python",
   "name": "Python [Root]"
  },
  "language_info": {
   "codemirror_mode": {
    "name": "ipython",
    "version": 3
   },
   "file_extension": ".py",
   "mimetype": "text/x-python",
   "name": "python",
   "nbconvert_exporter": "python",
   "pygments_lexer": "ipython3",
   "version": "3.5.2"
  },
  "nbpresent": {
   "slides": {},
   "themes": {}
  },
  "widgets": {
   "state": {
    "3a713eb850d5446c9486733ed3bf9a92": {
     "views": [
      {
       "cell_index": 5
      }
     ]
    },
    "7e6a3c330fdb4665a97619d1511637c8": {
     "views": [
      {
       "cell_index": 5
      }
     ]
    }
   },
   "version": "1.2.0"
  }
 },
 "nbformat": 4,
 "nbformat_minor": 0
}
