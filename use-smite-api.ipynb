{
 "cells": [
  {
   "cell_type": "markdown",
   "metadata": {
    "collapsed": true
   },
   "source": [
    "## Pulls Smite matches from Smite API\n",
    "\n",
    "Uses smite-python API wrapper by Jayden Bailey\n",
    "https://github.com/jaydenkieran/smite-python/blob/master/smite.py\n",
    "\n",
    "\n",
    "Edit main method before running all cells. Check comments in main method for more."
   ]
  },
  {
   "cell_type": "code",
   "execution_count": 1,
   "metadata": {
    "collapsed": true
   },
   "outputs": [],
   "source": [
    "import json\n",
    "import os, sys\n",
    "from smite import SmiteClient, NoResultError # in working directory\n",
    "from datetime import datetime, timedelta\n",
    "import pandas as pd\n",
    "import pickle"
   ]
  },
  {
   "cell_type": "code",
   "execution_count": 2,
   "metadata": {
    "collapsed": true
   },
   "outputs": [],
   "source": [
    "def writefile(filename, data):\n",
    "    with open(filename, 'w') as fout:\n",
    "        json.dump(data, fout)\n",
    "\n",
    "def readfile(filename):\n",
    "    with open(filename, 'r') as fout:\n",
    "        return json.load(fout)"
   ]
  },
  {
   "cell_type": "code",
   "execution_count": 4,
   "metadata": {
    "collapsed": true
   },
   "outputs": [],
   "source": [
    "def get_all_items(smite):\n",
    "    # TODO update to be similar to get_all_gods.\n",
    "    # DANGER # I have manually put in total item cost and haven't yet coded a way to do that,\n",
    "    # Updating SMITE_Items_All_Lookup.csv will remove that column and break SmiteRecommender\n",
    "    writefile('SMITE_Items_All.json', smite.get_items())\n",
    "    print(\"Successfully updated Items_All file. Remember to manually update items lookup file\")\n",
    "\n",
    "def get_all_gods(smite):\n",
    "    # Updates god info from SMITE API and creates lookup file\n",
    "    god_info = smite.get_gods()\n",
    "    writefile('SMITE_data/SMITE_Gods_All.json', god_info)\n",
    "    all_gods = pd.DataFrame(god_info)\n",
    "    lookup = all_gods.loc[:,[\"Name\", 'Pantheon', 'Roles', 'Title', 'Type', 'id', 'godCard_URL', 'godIcon_URL',\n",
    "                             'godAbility1_URL', 'godAbility2_URL', 'godAbility3_URL', 'godAbility4_URL', 'godAbility5_URL']]\n",
    "    all_gods.to_csv(\"SMITE_data/SMITE_Gods_All.csv\", index=None)\n",
    "    lookup.to_csv(\"SMITE_data/SMITE_Gods_All_Lookup.csv\", index=None)\n",
    "    print(\"Successfully updated God lookup file\")\n",
    "    \n",
    "def get_IDs(smite, date, game_mode=451, hour=-1):\n",
    "    \"\"\" Gets match_ids by date and gamemode from SMITE API.\n",
    "        returns output of check_IDs, a list of valid match ids\n",
    "    Gamemodes:\n",
    "    451 -ConquestLeague (ranked)\n",
    "    426 -Conquest       (casual)\n",
    "    440 -Ranked Duel (1v1 joust map)\n",
    "    450 -Joust Ranked (3v3)   \n",
    "    date example :20160423     \n",
    "    hour=-1 (or 24) all day, or hour=0-23 \n",
    "    \"\"\"\n",
    "    return(check_IDs(smite.get_match_ids_by_queue(game_mode, date, hour)))   \n",
    "\n",
    "def check_IDs(ids):\n",
    "    \"\"\" returns list of valid match ids \"\"\"\n",
    "    match_ids = []\n",
    "    for match in ids:\n",
    "        if match['Active_Flag'] == 'n':\n",
    "            match_ids.append(match['Match'])\n",
    "    print(\"Number of failed IDs: {}\".format(len(ids)-len(match_ids)))\n",
    "    return(match_ids)\n",
    "\n",
    "def get_all_match_IDs(smite, start_date, stop_date, game_mode):\n",
    "    \"\"\"Get all match IDs for a specific game mode between two dates\n",
    "        date example :20160423\n",
    "        Returns a list of lists, one for each day\n",
    "    \"\"\"\n",
    "    all_ids=[]\n",
    "    start = datetime.strptime(str(start_date), \"%Y%m%d\")\n",
    "    stop = datetime.strptime(str(stop_date), \"%Y%m%d\")    \n",
    "    while start < stop:\n",
    "        start = start + timedelta(days=1)  # increase day one by one\n",
    "        date =  int(start.strftime(\"%Y%m%d\"))\n",
    "        try:\n",
    "            all_ids.append(get_IDs(smite, date, game_mode, hour=-1))\n",
    "        except NoResultError:\n",
    "            print(\"No result for\", date)\n",
    "    return(all_ids)"
   ]
  },
  {
   "cell_type": "code",
   "execution_count": 5,
   "metadata": {
    "collapsed": false
   },
   "outputs": [],
   "source": [
    "def get_match_info(smite, match_ids, raw_folder, sorted_folder):\n",
    "    \"\"\" Given list of matches, writes (raw and sorted) csv files of 100 matches each,\n",
    "        labeled by earliest and latest game in YYYYMMDDHHmm-YYYYMMDDHHmm format.\n",
    "        sorted files are sorted by minematch().\n",
    "        Example filename: SMITE_raw_match_201610042230-201610042315\n",
    "        Params:\n",
    "        smite: smite-python SmiteClient object\n",
    "        match_ids: list of valid match_ids\n",
    "        raw_folder: folder (in current directory) to place raw csv files\n",
    "        sorted_folder: folder (in current directory) to place sorted csv files     \n",
    "    \"\"\"\n",
    "    print(\"Begun\")\n",
    "    df_raw = pd.DataFrame()\n",
    "    df_sorted = pd.DataFrame()\n",
    "    num_matches = 0\n",
    "    tot_num_matches = len(match_ids)\n",
    "    \n",
    "    for id in match_ids:\n",
    "        num_matches += 1       \n",
    "#        if num_matches%50==0:\n",
    "#            print(num_matches, \"of\", tot_num_matches)       \n",
    "        try:\n",
    "            match = pd.DataFrame(smite.get_match_details(id))\n",
    "        except NoResultError:\n",
    "            print(id, \"returned no data\")\n",
    "            continue\n",
    "        mined = minematch(match)\n",
    "        df_raw = df_raw.append(match)\n",
    "        df_sorted = df_sorted.append(mined)   \n",
    "        \n",
    "        # save every 100 matches (raw and sorted)\n",
    "        if num_matches%100==0 or num_matches==tot_num_matches:\n",
    "            # get min/max date for naming file\n",
    "            min_date = pd.to_datetime(df_raw.Entry_Datetime).min().strftime('%Y%m%d%H%M')\n",
    "            max_date = pd.to_datetime(df_raw.Entry_Datetime).max().strftime('%Y%m%d%H%M')         \n",
    "            # write files (and reset match dfs)\n",
    "            os.chdir(raw_folder)\n",
    "            df_raw.to_csv('SMITE_raw_match_{}-{}.csv'.format(min_date,max_date), index = False)\n",
    "            os.chdir('..')\n",
    "            df_raw = pd.DataFrame()\n",
    "            os.chdir(sorted_folder)\n",
    "            df_sorted.to_csv('SMITE_sorted_match_{}-{}.csv'.format(min_date,max_date), index = False)\n",
    "            os.chdir('..')\n",
    "            df_sorted = pd.DataFrame()\n",
    "            print('SMITE file written.', num_matches, \"written so far.\" )\n",
    "        if num_matches%250==0:\n",
    "            print(\"SMITE API usage update:\")\n",
    "            print(smite.get_data_used())\n",
    "    print(\"All match info retrieved.\")\n",
    "    \n",
    "def minematch(match):\n",
    "    '''given a dataframe containing all match info, returns a df of relevant information'''\n",
    "    # return None if any god slots are missing, or someone never bought their first relic (afk)\n",
    "    if any(match.GodId==0):\n",
    "        return(None)\n",
    "    if any(match.ActiveId1.isnull()) or any(match.ActiveId1==0):\n",
    "        return(None)\n",
    "    \n",
    "    # choose subset of variables to keep \n",
    "    df = match.loc[:,['Entry_Datetime',\n",
    "                      'Match',\n",
    "                      'name',\n",
    "                      'Win_Status',\n",
    "                      'GodId',\n",
    "#                      'Reference_Name',\n",
    "#                      'Item_Active_1',\n",
    "#                      'Item_Active_2',\n",
    "#                      'Item_Purch_1',\n",
    "#                      'Item_Purch_2',\n",
    "#                      'Item_Purch_3',\n",
    "#                      'Item_Purch_4',\n",
    "#                      'Item_Purch_5',\n",
    "#                      'Item_Purch_6',\n",
    "                      'ActiveId1',\n",
    "                      'ActiveId2',\n",
    "                      'ItemId1', \n",
    "                      'ItemId2',\n",
    "                      'ItemId3',\n",
    "                      'ItemId4',\n",
    "                      'ItemId5',\n",
    "                      'ItemId6',\n",
    "                      'Gold_Per_Minute',\n",
    "#                      'Time_In_Match_Seconds',\n",
    "                      'Minutes'                     \n",
    "#                      'Kills_First_Blood',\n",
    "#                      'Kills_Fire_Giant',\n",
    "#                      'Kills_Gold_Fury',\n",
    "#                      'Kills_Phoenix',\n",
    "#                      'Mastery_Level',\n",
    "#                      'Conquest_Tier',\n",
    "#                      'Conquest_Wins'\n",
    "                     ]]\n",
    "    # add Win_Ratio\n",
    "#    df[\"Conquest_Win_Ratio\"]=round(match.Conquest_Wins/(match.Conquest_Wins + match.Conquest_Losses),2) \n",
    "    \n",
    "    # change some variable names\n",
    "    df = df.rename(columns={\"ActiveId1\" : \"relic0\",\n",
    "                            \"ActiveId2\" : 'relic1',\n",
    "                            'Entry_Datetime' : 'match_time',\n",
    "                            'name' : \"game_mode_name\",\n",
    "                            'Match' : \"match_id\",\n",
    "                            'Win_Status' : \"win\",\n",
    "                            'GodId' : 'god_id',\n",
    "                            'Reference_Name' : \"god_name\",\n",
    "                            'ItemId1' : 'item0', \n",
    "                            'ItemId2' : 'item1',\n",
    "                            'ItemId3' : 'item2',\n",
    "                            'ItemId4' : 'item3',\n",
    "                            'ItemId5' : 'item4',\n",
    "                            'ItemId6' : 'item5',\n",
    "#                            'Time_In_Match_Seconds' : \"duration\"\n",
    "                            'Minutes' : \"duration_min\"                            \n",
    "                           }) \n",
    "    df.win=df.win.replace({'Winner': True, 'Loser': False})    \n",
    "    return(df)"
   ]
  },
  {
   "cell_type": "markdown",
   "metadata": {},
   "source": [
    "Using smite-python by jaydenkieran as wrapper for SMITE API requests, with\n",
    "*smite.py* in working directory.\n",
    "\n",
    "https://github.com/jaydenkieran/smite-python/blob/master/smite.py\n",
    "\n",
    "Every call to the API is counting as 2 requests, either due to the wrapper or the SMITE API. \n",
    "API method information: http://smite-python.readthedocs.io/en/latest/api.html\n",
    "\n",
    "SMITE measures time in Universal Time Coordinated (UTC), 8 hours ahead of Pacific time. \n",
    "But Smite API appears to reset request counts at 11:00PM pacific.\n",
    "SMITE API only allows 7500 request a day.\n",
    "\n",
    "Patch notes happen every 2 weeks on a wednesday. Not sure when they actually go live.\n",
    "Patch 3.21 happened on 11/02/2016, but as of 11/06/2016 ping() still returns patch 3.20 (3.21 on 11/9)"
   ]
  },
  {
   "cell_type": "code",
   "execution_count": 18,
   "metadata": {
    "collapsed": false,
    "scrolled": true
   },
   "outputs": [
    {
     "name": "stdout",
     "output_type": "stream",
     "text": [
      "SmiteAPI (ver 3.21.0.32636) [PATCH - 3.21] - Ping successful. Server Date:11/19/2016 6:04:14 AM\n"
     ]
    }
   ],
   "source": [
    "def main():   \n",
    "    # edit to choose what main's function should be\n",
    "    get_matches = False  # get all match info for a particular day\n",
    "    get_matchIDs = False  # get all valid matchids between two dates (could be useful for scraping)\n",
    "    update_gods = False  # update if there are new gods/changes \n",
    "    update_items = False # if there are new items/changes  \n",
    "\n",
    "    # for get_matches\n",
    "    date = 20161101\n",
    "    hour = -1\n",
    "    raw_folder    = 'SMITE_raw'\n",
    "    sorted_folder = 'SMITE_sorted'\n",
    "    \n",
    "    # for get_matchIDs\n",
    "    start_date = 20161107\n",
    "    end_date = 20161114\n",
    "    \n",
    "    # for both methods  \n",
    "    game_mode = 451  \n",
    "    #    Gamemodes:\n",
    "    # 451 -ConquestLeague (ranked)\n",
    "    # 426 -Conquest       (casual)\n",
    "    # 440 -Ranked Duel (1v1 joust map)\n",
    "    # 450 -Joust Ranked (3v3)\n",
    "    # 448 -Joust Casual\n",
    "    # date format: 20141231  \n",
    "    # -1 or 24 (all hours)\n",
    "    # 0-23  (1 hour UTC)\n",
    "    \n",
    "####### Initialize Smite API connection  #######  \n",
    "    # import config\n",
    "    config = readfile('config')\n",
    "    key = config['smite']['smitekey{}'.format(1)] # Micah's key\n",
    "    devID = config['smite']['smitedevID{}'.format(1)] # Micah's devID\n",
    "    smite = SmiteClient(devID,key)\n",
    "    print(smite.ping())  \n",
    "    \n",
    "############### main method ########################\n",
    "    # update item and god files in wd\n",
    "    if update_gods:\n",
    "        get_all_gods(smite)\n",
    "    if update_items:\n",
    "        get_all_items(smite)\n",
    "    \n",
    "    if get_matches:\n",
    "        match_ids = get_IDs(smite, date, game_mode, hour)\n",
    "        get_match_info(smite, match_ids, raw_folder, sorted_folder)\n",
    "        \n",
    "    if get_matchIDs:\n",
    "        all_match_ids = get_all_match_IDs(smite, start_date, end_date, game_mode)\n",
    "        if game_mode == 451:\n",
    "            mode = 'ranked'\n",
    "        elif game_mode == 426:\n",
    "            mode = 'casual'\n",
    "        elif game_mode == 450:\n",
    "            mode = 'joust_ranked'\n",
    "        elif game_mode == 440:\n",
    "            mode = 'duel_ranked'\n",
    "        else:\n",
    "            mode = 'othermodes'               \n",
    "        pickle.dump(all_match_ids, open(\"SMITE_data/{}_match_ids_{}-{}.p\".format(mode, start_date, end_date), \"wb\"))\n",
    "            \n",
    "if __name__ == '__main__':\n",
    "    main()"
   ]
  },
  {
   "cell_type": "code",
   "execution_count": 6,
   "metadata": {
    "collapsed": false
   },
   "outputs": [
    {
     "name": "stdout",
     "output_type": "stream",
     "text": [
      "SmiteAPI (ver 3.21.0.32636) [PATCH - 3.22] - Ping successful. Server Date:11/21/2016 6:14:40 PM\n"
     ]
    }
   ],
   "source": [
    "\"\"\"\n",
    "# Configure for interactions with Smite API outside of main method\n",
    "config = readfile('config')\n",
    "key = config['smite']['smitekey{}'.format(1)] # Micah's key\n",
    "devID = config['smite']['smitedevID{}'.format(1)] # Micah's devID\n",
    "smite = SmiteClient(devID,key)\n",
    "print(smite.ping())\n",
    "\"\"\""
   ]
  },
  {
   "cell_type": "code",
   "execution_count": 1,
   "metadata": {
    "collapsed": false
   },
   "outputs": [
    {
     "data": {
      "text/plain": [
       "'\\n#failed_matches_list = pickle.load(open(\"SMITE_data/failed_match_list.p\", \"rb\"))\\nlen(failed_matches_list)\\nraw_folder    = \\'SMITE_scraped_raw_joust\\'\\nsorted_folder = \\'SMITE_scraped_parsed_joust\\'\\nget_match_info(smite, failed_matches_list, raw_folder, sorted_folder)\\n'"
      ]
     },
     "execution_count": 1,
     "metadata": {},
     "output_type": "execute_result"
    }
   ],
   "source": [
    "\"\"\"\n",
    "#failed_matches_list = pickle.load(open(\"SMITE_data/failed_match_list.p\", \"rb\"))\n",
    "len(failed_matches_list)\n",
    "raw_folder    = 'SMITE_scraped_raw_joust'\n",
    "sorted_folder = 'SMITE_scraped_parsed_joust'\n",
    "get_match_info(smite, failed_matches_list, raw_folder, sorted_folder)\n",
    "\"\"\""
   ]
  }
 ],
 "metadata": {
  "kernelspec": {
   "display_name": "Python [Root]",
   "language": "python",
   "name": "Python [Root]"
  },
  "language_info": {
   "codemirror_mode": {
    "name": "ipython",
    "version": 3
   },
   "file_extension": ".py",
   "mimetype": "text/x-python",
   "name": "python",
   "nbconvert_exporter": "python",
   "pygments_lexer": "ipython3",
   "version": "3.5.2"
  }
 },
 "nbformat": 4,
 "nbformat_minor": 0
}
