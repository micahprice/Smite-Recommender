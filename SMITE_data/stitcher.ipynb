{
 "cells": [
  {
   "cell_type": "markdown",
   "metadata": {
    "collapsed": false
   },
   "source": [
    "#### Contains a few useful functions.\n",
    "\n",
    "find_games_played - takes a csv of matches, and for each god, creates a list of the matches (as int) that that god won or lost.\n",
    "                    Then saves all lists in 1 dictionary, keyed:  god_id + \"_win\"/\"_lose\" : [], output as a json.\n",
    "                    Creates file in in SMITE_data, which is necessary for SmiteRecommender to initialize\n",
    "\n",
    "stitch          - stitches together all the parsed matches from a folder and creates one csv file to be used by SmiteRecommender.\n",
    "                    (find_games_played also takes in the output of stitcher)\n"
   ]
  },
  {
   "cell_type": "code",
   "execution_count": 2,
   "metadata": {
    "collapsed": true
   },
   "outputs": [],
   "source": [
    "import os, json\n",
    "import pandas as pd"
   ]
  },
  {
   "cell_type": "code",
   "execution_count": 3,
   "metadata": {
    "collapsed": false
   },
   "outputs": [],
   "source": [
    "def find_games_played(gamemode):\n",
    "    \"\"\" writes a dictionary (as a json file) with a list of played matches keyed to each god\n",
    "    each god has two keys: god_id + '_win', and god_id + '_lose'\n",
    "    Uses SMITE_Gods_All_Lookup.csv, assuming that it is the SMITE_data folder.\n",
    "    standard output name: 'matches_played_by_each_god_ranked.json'\n",
    "    gamemodes:\n",
    "    \"ranked\" (ranked conquest)\n",
    "    \"casual\" (casual conquest)\n",
    "    \"joust\"  (ranked joust)\n",
    "    \"duel\"   (ranked duel)\n",
    "    \"\"\"\n",
    "    if gamemode == \"ranked\":\n",
    "        datafile   = 'Ranked_Conquest_SMITEdata.csv'\n",
    "        outputfile = \"matches_played_by_each_god_ranked.json\"\n",
    "    elif gamemode == \"casual\":\n",
    "        datafile   = 'Casual_Conquest_SMITEdata.csv'\n",
    "        outputfile = \"matches_played_by_each_god_casual.json\"\n",
    "    elif gamemode == \"joust\":\n",
    "        datafile   = 'Ranked_Joust_SMITEdata.csv'\n",
    "        outputfile = \"matches_played_by_each_god_joust.json\"\n",
    "    elif gamemode == \"duel\":\n",
    "        datafile   = 'Ranked_Duel_SMITEdata.csv'\n",
    "        outputfile = \"matches_played_by_each_god_duel.json\"\n",
    "    else:\n",
    "        print(\"ERROR: gamemode not valid. Choose ranked, casual, joust, or duel.\")\n",
    "        return\n",
    "                        \n",
    "    df = pd.read_csv(datafile).set_index('match_id')\n",
    "    # make a list of all god_ids\n",
    "    god_ids = pd.read_csv(\"SMITE_Gods_All_Lookup.csv\").id.tolist()\n",
    "    each_god_matches = {}\n",
    "    for god_id in god_ids:\n",
    "        matches = df[df['god_id']==god_id]\n",
    "        # go to great lengths to make sure the dict values are int.             \n",
    "        each_god_matches[str(god_id) + '_win'] = matches.index[matches['win'] == True].get_values().tolist()\n",
    "        each_god_matches[str(god_id) + '_lose'] = matches.index[matches['win'] == False].get_values().tolist()\n",
    "    with open(outputfile, 'w') as fout:\n",
    "        json.dump(each_god_matches, fout)\n",
    "    print('Game matching complete: \"{}\" created.'.format(outputfile))"
   ]
  },
  {
   "cell_type": "code",
   "execution_count": 4,
   "metadata": {
    "collapsed": false
   },
   "outputs": [],
   "source": [
    "def stitch(gamemode):\n",
    "    \"\"\" stiches together all match files for the given gamemode and creates new file to be used by SmiteRecommender\n",
    "    gamemodes:\n",
    "    \"ranked\" (ranked conquest)\n",
    "    \"casual\" (casual conquest)\n",
    "    \"joust\"  (ranked joust)\n",
    "    \"duel\"   (ranked duel)\n",
    "    \"\"\"\n",
    "    if gamemode == \"ranked\":\n",
    "        outputfile = 'Ranked_Conquest_SMITEdata.csv'\n",
    "        path       = '../SMITE_scraped_parsed_ranked/'\n",
    "    elif gamemode == \"casual\":\n",
    "        outputfile = 'Casual_Conquest_SMITEdata.csv'\n",
    "        path       = '../SMITE_scraped_parsed_casual/'\n",
    "    elif gamemode == \"joust\":\n",
    "        outputfile = 'Ranked_Joust_SMITEdata.csv'\n",
    "        path       = '../SMITE_scraped_parsed_joust/'\n",
    "    elif gamemode == \"duel\":\n",
    "        outputfile = 'Ranked_Duel_SMITEdata.csv'\n",
    "        path       = '../SMITE_scraped_parsed_duel/'\n",
    "    else:\n",
    "        print(\"ERROR: gamemode not valid. Choose ranked, casual, joust, or duel.\")\n",
    "        return\n",
    "    all_files = os.listdir(path) \n",
    "    df_from_each_file = (pd.read_csv(path + f) for f in all_files) # generator (could use list, this is just a bit faster)\n",
    "    concatenated_df   = pd.concat(df_from_each_file, ignore_index=True)\n",
    "    concatenated_df.to_csv(outputfile, index=None)\n",
    "    print('Stitch complete:\"{}\" created.'.format(outputfile))"
   ]
  },
  {
   "cell_type": "code",
   "execution_count": 5,
   "metadata": {
    "collapsed": false
   },
   "outputs": [
    {
     "name": "stdout",
     "output_type": "stream",
     "text": [
      "Stitch complete:\"Ranked_Duel_SMITEdata.csv\" created.\n",
      "Game matching complete: \"matches_played_by_each_god_duel.json\" created.\n"
     ]
    }
   ],
   "source": [
    "#stitch(gamemode = \"ranked\")\n",
    "#find_games_played(gamemode = 'ranked')\n",
    "\n",
    "stitch(gamemode = \"duel\")\n",
    "find_games_played(gamemode = 'duel')\n",
    "\n",
    "#stitch(gamemode = \"joust\")\n",
    "#find_games_played(gamemode = 'joust')"
   ]
  }
 ],
 "metadata": {
  "anaconda-cloud": {},
  "kernelspec": {
   "display_name": "Python [Root]",
   "language": "python",
   "name": "Python [Root]"
  },
  "language_info": {
   "codemirror_mode": {
    "name": "ipython",
    "version": 3
   },
   "file_extension": ".py",
   "mimetype": "text/x-python",
   "name": "python",
   "nbconvert_exporter": "python",
   "pygments_lexer": "ipython3",
   "version": "3.5.2"
  }
 },
 "nbformat": 4,
 "nbformat_minor": 0
}
